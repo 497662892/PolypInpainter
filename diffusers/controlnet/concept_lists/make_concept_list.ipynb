{
 "cells": [
  {
   "cell_type": "code",
   "execution_count": 1,
   "metadata": {},
   "outputs": [],
   "source": [
    "import json\n",
    "import os\n",
    "import numpy as np\n",
    "import pandas as pd\n",
    "import random\n",
    "import pickle   "
   ]
  },
  {
   "cell_type": "code",
   "execution_count": 1,
   "metadata": {},
   "outputs": [],
   "source": [
    "# make validation list \n",
    "import json\n",
    "validation_list = {}\n",
    "\n",
    "\n",
    "# the validation image (use for as the reference)\n",
    "validation_image = [\n",
    "    \"/home/user01/majiajian/data/polyp/Kvasir-SEG/train/images/cju0sr5ghl0nd08789uzf1raf.jpg\",\n",
    "    \"/home/user01/majiajian/data/polyp/Kvasir-SEG/train/images/cju1d31sp4d4k0878r3fr02ul.jpg\",\n",
    "    \"/home/user01/majiajian/data/polyp/Kvasir-SEG/train/images/cju2qxxko229x08786gvxxhur.jpg\",\n",
    "    \"/home/user01/majiajian/data/polyp/Kvasir-SEG/train/images/cju32a52lb9rc0799xi40qs00.jpg\",\n",
    "    \"/home/user01/majiajian/data/polyp/Kvasir-SEG/train/images/cju34repocy5208780gswillm.jpg\"\n",
    "]\n",
    "\n",
    "# the mask of validation image\n",
    "validation_control = [\n",
    "    \"/home/user01/majiajian/data/polyp/Kvasir-SEG/train/masks/cju0sr5ghl0nd08789uzf1raf.jpg\",\n",
    "    \"/home/user01/majiajian/data/polyp/Kvasir-SEG/train/masks/cju1d31sp4d4k0878r3fr02ul.jpg\",\n",
    "    \"/home/user01/majiajian/data/polyp/Kvasir-SEG/train/masks/cju2qxxko229x08786gvxxhur.jpg\",\n",
    "    \"/home/user01/majiajian/data/polyp/Kvasir-SEG/train/masks/cju32a52lb9rc0799xi40qs00.jpg\",\n",
    "    \"/home/user01/majiajian/data/polyp/Kvasir-SEG/train/masks/cju34repocy5208780gswillm.jpg\"\n",
    "]\n",
    "\n",
    "# the background image\n",
    "validation_background = [\n",
    "    \"/home/user01/majiajian/data/polyp/negatives/0_16_frame_3125.jpg\",\n",
    "    \"/home/user01/majiajian/data/polyp/negatives/0_2_frame_2550.jpg\",\n",
    "    \"/home/user01/majiajian/data/polyp/negatives/0_16_frame_325.jpg\",\n",
    "    \"/home/user01/majiajian/data/polyp/negatives/case_M_20181001094710_0U62363100131210_1_006_001-1_Negative_ayy_image009717.jpg\",\n",
    "    \"/home/user01/majiajian/data/polyp/negatives/case_M_20181109101724_0U62368110954624_1_004_001-1_Negative_ayy_image006358.jpg\",\n",
    "]\n",
    "\n",
    "# the prompt of validation image\n",
    "validation_prompt = [\n",
    "    \"an endoscopic image of a polyp\",\n",
    "    \"an endoscopic image of a polyp\",\n",
    "    \"an endoscopic image of a polyp\",\n",
    "    \"an endoscopic image of a polyp\",\n",
    "    \"an endoscopic image of a polyp\",\n",
    "]\n",
    "\n",
    "num_validation_images = 2\n",
    "\n",
    "validation_list[\"validation_image\"] = validation_image\n",
    "validation_list[\"validation_mask\"] = validation_control\n",
    "validation_list[\"validation_background\"] = validation_background\n",
    "validation_list[\"validation_prompt\"] = validation_prompt\n",
    "validation_list[\"num_validation_images\"] = num_validation_images\n",
    "\n",
    "with open(\"validation_list.json\", \"w\") as f:\n",
    "    json.dump(validation_list, f)"
   ]
  }
 ],
 "metadata": {
  "kernelspec": {
   "display_name": "diffuser",
   "language": "python",
   "name": "python3"
  },
  "language_info": {
   "codemirror_mode": {
    "name": "ipython",
    "version": 3
   },
   "file_extension": ".py",
   "mimetype": "text/x-python",
   "name": "python",
   "nbconvert_exporter": "python",
   "pygments_lexer": "ipython3",
   "version": "3.10.13"
  }
 },
 "nbformat": 4,
 "nbformat_minor": 2
}
